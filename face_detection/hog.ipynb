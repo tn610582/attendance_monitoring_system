{
 "cells": [
  {
   "cell_type": "markdown",
   "id": "8466001c-327b-4d22-bcbd-f5703a5499f9",
   "metadata": {},
   "source": [
    "# CNN Face Detection:\n",
    "\n",
    " - Task 1: Read input file.\n",
    " - Task 2: Use harr algorithm detect face.\n",
    " - Task 3: Draw bounding box."
   ]
  },
  {
   "cell_type": "code",
   "execution_count": 13,
   "id": "ec465581-e87c-4038-845c-046233a16e95",
   "metadata": {},
   "outputs": [],
   "source": [
    "# Import Dlib\n",
    "import dlib\n",
    "import cv2\n",
    "import matplotlib.pyplot as plt\n",
    "#%matplotlib inline\n",
    "plt.rcParams['figure.dpi'] = 150\n",
    "img = cv2.imread('./images/fake_ai_faces.0.png')"
   ]
  }
 ],
 "metadata": {
  "kernelspec": {
   "display_name": "Python 3 (ipykernel)",
   "language": "python",
   "name": "python3"
  },
  "language_info": {
   "codemirror_mode": {
    "name": "ipython",
    "version": 3
   },
   "file_extension": ".py",
   "mimetype": "text/x-python",
   "name": "python",
   "nbconvert_exporter": "python",
   "pygments_lexer": "ipython3",
   "version": "3.9.12"
  }
 },
 "nbformat": 4,
 "nbformat_minor": 5
}
